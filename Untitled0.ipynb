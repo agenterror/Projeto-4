{
  "nbformat": 4,
  "nbformat_minor": 0,
  "metadata": {
    "colab": {
      "provenance": [],
      "collapsed_sections": [
        "5nbwGVdcmNN_",
        "PJZMYuvXa4wO",
        "XZXUraZ1a7Qm",
        "mb0oyb7Za-_l",
        "DYc3iKCzL024"
      ],
      "authorship_tag": "ABX9TyO9LSmlS5l8hTSYRVy6Cgkc",
      "include_colab_link": true
    },
    "kernelspec": {
      "name": "python3",
      "display_name": "Python 3"
    },
    "language_info": {
      "name": "python"
    }
  },
  "cells": [
    {
      "cell_type": "markdown",
      "metadata": {
        "id": "view-in-github",
        "colab_type": "text"
      },
      "source": [
        "<a href=\"https://colab.research.google.com/github/agenterror/Projeto-4/blob/main/Untitled0.ipynb\" target=\"_parent\"><img src=\"https://colab.research.google.com/assets/colab-badge.svg\" alt=\"Open In Colab\"/></a>"
      ]
    },
    {
      "cell_type": "code",
      "source": [
        "import pandas as pd"
      ],
      "metadata": {
        "id": "0IPw_FrNmQvI"
      },
      "execution_count": 1,
      "outputs": []
    },
    {
      "cell_type": "markdown",
      "source": [
        "#DADOS\n"
      ],
      "metadata": {
        "id": "SQaNYyC2q3Jt"
      }
    },
    {
      "cell_type": "markdown",
      "source": [
        "##DADOS DOS FUNCIONARIOS"
      ],
      "metadata": {
        "id": "lFC0tjNMq8QK"
      }
    },
    {
      "cell_type": "code",
      "source": [
        "dados = {\n",
        "    'Nome do Funcionário': ['H', 'N', 'J'],\n",
        "    'Horas Trabalhadas': [8, 7, 8],\n",
        "    'Bugs Corrigidos': [5, 2, 7],\n",
        "    'Tarefas Concluídas': [10, 8, 12],\n",
        "}\n"
      ],
      "metadata": {
        "id": "mTZENEs0mq-h"
      },
      "execution_count": 2,
      "outputs": []
    },
    {
      "cell_type": "code",
      "source": [
        "dados"
      ],
      "metadata": {
        "colab": {
          "base_uri": "https://localhost:8080/"
        },
        "id": "KOP6vhgGmzoy",
        "outputId": "6410d5ca-96d6-4d23-e8c9-996102a4d99d"
      },
      "execution_count": 13,
      "outputs": [
        {
          "output_type": "execute_result",
          "data": {
            "text/plain": [
              "{'Nome do Funcionário': ['H', 'N', 'J'],\n",
              " 'Horas Trabalhadas': [8, 7, 8],\n",
              " 'Bugs Corrigidos': [5, 2, 7],\n",
              " 'Tarefas Concluídas': [10, 8, 12]}"
            ]
          },
          "metadata": {},
          "execution_count": 13
        }
      ]
    },
    {
      "cell_type": "code",
      "source": [
        "df = pd.DataFrame(dados)"
      ],
      "metadata": {
        "id": "Zt32tuG8m15o"
      },
      "execution_count": 4,
      "outputs": []
    },
    {
      "cell_type": "markdown",
      "source": [
        "##PRODUTIVIDADE DOS FUNCIONARIOS\n"
      ],
      "metadata": {
        "id": "8qNcnN3hrIb6"
      }
    },
    {
      "cell_type": "code",
      "source": [
        "df['Produtividade Diária'] = df['Tarefas Concluídas'] / df['Horas Trabalhadas']"
      ],
      "metadata": {
        "id": "__zwgrv7m5pw"
      },
      "execution_count": 5,
      "outputs": []
    },
    {
      "cell_type": "code",
      "source": [
        "total_horas_trabalhadas = df['Horas Trabalhadas'].sum()"
      ],
      "metadata": {
        "id": "C4Vfy8y2nNDB"
      },
      "execution_count": 6,
      "outputs": []
    },
    {
      "cell_type": "code",
      "source": [
        "total_horas_trabalhadas"
      ],
      "metadata": {
        "colab": {
          "base_uri": "https://localhost:8080/"
        },
        "id": "hlvxagDpnUWp",
        "outputId": "0e96098d-31a0-4d82-8982-12d50b8df175"
      },
      "execution_count": 7,
      "outputs": [
        {
          "output_type": "execute_result",
          "data": {
            "text/plain": [
              "23"
            ]
          },
          "metadata": {},
          "execution_count": 7
        }
      ]
    },
    {
      "cell_type": "code",
      "source": [
        "media_diaria_horas_trabalhadas = df['Horas Trabalhadas'].mean()\n",
        "total_bugs_corrigidos = df['Bugs Corrigidos'].sum()\n",
        "media_diaria_bugs_corrigidos = df['Bugs Corrigidos'].mean()\n",
        "total_tarefas_concluidas = df['Tarefas Concluídas'].sum()\n",
        "media_diaria_tarefas_concluidas = df['Tarefas Concluídas'].mean()\n",
        "produtividade_diaria = df['Produtividade Diária'].mean()"
      ],
      "metadata": {
        "id": "sIMtHsZ0nZ8I"
      },
      "execution_count": 8,
      "outputs": []
    },
    {
      "cell_type": "markdown",
      "source": [
        "##DATA DO RELATÓRIO"
      ],
      "metadata": {
        "id": "isvgYe4uragK"
      }
    },
    {
      "cell_type": "code",
      "source": [
        "print(\"**Relatório de Progresso Diário**\")\n",
        "print(f\"\\n*Data:* [21/01/2005]]\\n\")"
      ],
      "metadata": {
        "colab": {
          "base_uri": "https://localhost:8080/"
        },
        "id": "apZg-_Zknihy",
        "outputId": "9116673c-54c6-419d-f220-fe58ac8ec0c6"
      },
      "execution_count": 10,
      "outputs": [
        {
          "output_type": "stream",
          "name": "stdout",
          "text": [
            "**Relatório de Progresso Diário**\n",
            "\n",
            "*Data:* [21/01/2005]]\n",
            "\n"
          ]
        }
      ]
    },
    {
      "cell_type": "markdown",
      "source": [
        "##RESULTADOS FINAIS"
      ],
      "metadata": {
        "id": "F2DjwGRkrfsB"
      }
    },
    {
      "cell_type": "code",
      "source": [
        "print(\"**Resumo Geral:**\")\n",
        "print(f\"1. Total de Horas Trabalhadas: {total_horas_trabalhadas} horas\")\n",
        "print(f\"2. Média Diária de Horas Trabalhadas: {media_diaria_horas_trabalhadas:.2f} horas\")\n",
        "print(f\"3. Total de Bugs Corrigidos: {total_bugs_corrigidos}\")\n",
        "print(f\"4. Média Diária de Bugs Corrigidos: {media_diaria_bugs_corrigidos:.2f}\")\n",
        "print(f\"5. Total de Tarefas Concluídas: {total_tarefas_concluidas}\")\n",
        "print(f\"6. Média Diária de Tarefas Concluídas: {media_diaria_tarefas_concluidas:.2f}\")\n",
        "print(f\"7. Produtividade Diária (Tarefas Concluídas por Hora): {produtividade_diaria:.2f}\\n\")\n",
        "print(\"Observações e Comentários:\")\n",
        "print(\"- [Inserir comentários específicos sobre o desempenho notável, desafios enfrentados, ou quaisquer eventos relevantes.]\")\n",
        "print(\"\\nMetas e Objetivos para o Próximo Dia:\")\n",
        "print(\"- [Listar metas específicas para o próximo dia, se aplicável.]\")"
      ],
      "metadata": {
        "colab": {
          "base_uri": "https://localhost:8080/"
        },
        "id": "WER8vrJAnwLp",
        "outputId": "c2d07e33-01cc-416f-db12-aca264f2c3eb"
      },
      "execution_count": 11,
      "outputs": [
        {
          "output_type": "stream",
          "name": "stdout",
          "text": [
            "**Resumo Geral:**\n",
            "1. Total de Horas Trabalhadas: 23 horas\n",
            "2. Média Diária de Horas Trabalhadas: 7.67 horas\n",
            "3. Total de Bugs Corrigidos: 14\n",
            "4. Média Diária de Bugs Corrigidos: 4.67\n",
            "5. Total de Tarefas Concluídas: 30\n",
            "6. Média Diária de Tarefas Concluídas: 10.00\n",
            "7. Produtividade Diária (Tarefas Concluídas por Hora): 1.30\n",
            "\n",
            "Observações e Comentários:\n",
            "- [Inserir comentários específicos sobre o desempenho notável, desafios enfrentados, ou quaisquer eventos relevantes.]\n",
            "\n",
            "Metas e Objetivos para o Próximo Dia:\n",
            "- [Listar metas específicas para o próximo dia, se aplicável.]\n"
          ]
        }
      ]
    }
  ]
}